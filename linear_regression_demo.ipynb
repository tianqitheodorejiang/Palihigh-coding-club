{
  "nbformat": 4,
  "nbformat_minor": 0,
  "metadata": {
    "colab": {
      "name": "linear_regression_demo.ipynb",
      "provenance": []
    },
    "kernelspec": {
      "name": "python3",
      "display_name": "Python 3"
    },
    "language_info": {
      "name": "python"
    }
  },
  "cells": [
    {
      "cell_type": "code",
      "execution_count": 15,
      "metadata": {
        "id": "gIgQ3j5B92v5"
      },
      "outputs": [],
      "source": [
        "import tensorflow as tf\n",
        "import numpy as np\n",
        "import random"
      ]
    },
    {
      "cell_type": "code",
      "source": [
        "dataset = []\n",
        "for x in range(0,1000):\n",
        "  y=0.5*x+4\n",
        "  dataset.append([x,y])\n",
        "\n",
        "def shuffle(lst):\n",
        "  new_list = []\n",
        "  for i in range(len(lst)):\n",
        "    new_list.append(lst[random.randint(0,len(lst)-1)])\n",
        "  return new_list\n",
        "\n",
        "train = shuffle(dataset[:int(0.8*len(dataset))])\n",
        "eval = dataset[int(0.8*len(dataset)):int(0.9*len(dataset))]\n",
        "test = dataset[int(0.9*len(dataset)):]"
      ],
      "metadata": {
        "id": "9feebK35-VTE"
      },
      "execution_count": 16,
      "outputs": []
    },
    {
      "cell_type": "code",
      "source": [
        "model = tf.keras.Sequential([tf.keras.layers.Dense(5),\n",
        "                             tf.keras.layers.Dense(1)])\n",
        "model.compile(optimizer=\"adam\",loss=\"mse\",metrics = [tf.keras.metrics.MeanSquaredError()])"
      ],
      "metadata": {
        "id": "K43QPp45_W9D"
      },
      "execution_count": 37,
      "outputs": []
    },
    {
      "cell_type": "code",
      "source": [
        "model.fit([[x] for x,y in train],[[y] for x,y in train],epochs=30,steps_per_epoch=1000)"
      ],
      "metadata": {
        "colab": {
          "base_uri": "https://localhost:8080/"
        },
        "id": "h2KgC2-gA2z0",
        "outputId": "a6bd2ff8-ca2f-4bd0-fb93-aebec0a7635a"
      },
      "execution_count": 38,
      "outputs": [
        {
          "output_type": "stream",
          "name": "stdout",
          "text": [
            "Epoch 1/30\n",
            "1000/1000 [==============================] - 2s 2ms/step - loss: 2024.8534 - mean_squared_error: 2024.8534\n",
            "Epoch 2/30\n",
            "1000/1000 [==============================] - 2s 2ms/step - loss: 3.0899 - mean_squared_error: 3.0899\n",
            "Epoch 3/30\n",
            "1000/1000 [==============================] - 2s 2ms/step - loss: 2.7959 - mean_squared_error: 2.7959\n",
            "Epoch 4/30\n",
            "1000/1000 [==============================] - 2s 2ms/step - loss: 2.3645 - mean_squared_error: 2.3645\n",
            "Epoch 5/30\n",
            "1000/1000 [==============================] - 2s 2ms/step - loss: 1.8072 - mean_squared_error: 1.8072\n",
            "Epoch 6/30\n",
            "1000/1000 [==============================] - 2s 2ms/step - loss: 1.2291 - mean_squared_error: 1.2291\n",
            "Epoch 7/30\n",
            "1000/1000 [==============================] - 2s 2ms/step - loss: 0.6845 - mean_squared_error: 0.6845\n",
            "Epoch 8/30\n",
            "1000/1000 [==============================] - 2s 2ms/step - loss: 0.2753 - mean_squared_error: 0.2753\n",
            "Epoch 9/30\n",
            "1000/1000 [==============================] - 2s 2ms/step - loss: 0.0779 - mean_squared_error: 0.0779\n",
            "Epoch 10/30\n",
            "1000/1000 [==============================] - 2s 2ms/step - loss: 0.4766 - mean_squared_error: 0.4766\n",
            "Epoch 11/30\n",
            "1000/1000 [==============================] - 2s 2ms/step - loss: 0.2651 - mean_squared_error: 0.2651\n",
            "Epoch 12/30\n",
            "1000/1000 [==============================] - 2s 2ms/step - loss: 0.4554 - mean_squared_error: 0.4554\n",
            "Epoch 13/30\n",
            "1000/1000 [==============================] - 2s 2ms/step - loss: 0.6069 - mean_squared_error: 0.6069\n",
            "Epoch 14/30\n",
            "1000/1000 [==============================] - 2s 2ms/step - loss: 0.0052 - mean_squared_error: 0.0052\n",
            "Epoch 15/30\n",
            "1000/1000 [==============================] - 2s 2ms/step - loss: 0.0610 - mean_squared_error: 0.0610\n",
            "Epoch 16/30\n",
            "1000/1000 [==============================] - 2s 2ms/step - loss: 0.4431 - mean_squared_error: 0.4431\n",
            "Epoch 17/30\n",
            "1000/1000 [==============================] - 2s 2ms/step - loss: 0.0587 - mean_squared_error: 0.0587\n",
            "Epoch 18/30\n",
            "1000/1000 [==============================] - 2s 2ms/step - loss: 0.4998 - mean_squared_error: 0.4998\n",
            "Epoch 19/30\n",
            "1000/1000 [==============================] - 2s 2ms/step - loss: 0.6657 - mean_squared_error: 0.6657\n",
            "Epoch 20/30\n",
            "1000/1000 [==============================] - 2s 2ms/step - loss: 0.0015 - mean_squared_error: 0.0015\n",
            "Epoch 21/30\n",
            "1000/1000 [==============================] - 2s 2ms/step - loss: 0.9387 - mean_squared_error: 0.9387\n",
            "Epoch 22/30\n",
            "1000/1000 [==============================] - 2s 2ms/step - loss: 2.0606e-04 - mean_squared_error: 2.0606e-04\n",
            "Epoch 23/30\n",
            "1000/1000 [==============================] - 2s 2ms/step - loss: 1.2994 - mean_squared_error: 1.2994\n",
            "Epoch 24/30\n",
            "1000/1000 [==============================] - 2s 2ms/step - loss: 0.0711 - mean_squared_error: 0.0711\n",
            "Epoch 25/30\n",
            "1000/1000 [==============================] - 2s 2ms/step - loss: 0.1257 - mean_squared_error: 0.1257\n",
            "Epoch 26/30\n",
            "1000/1000 [==============================] - 2s 2ms/step - loss: 1.4607 - mean_squared_error: 1.4607\n",
            "Epoch 27/30\n",
            "1000/1000 [==============================] - 2s 2ms/step - loss: 0.0021 - mean_squared_error: 0.0021\n",
            "Epoch 28/30\n",
            "1000/1000 [==============================] - 2s 2ms/step - loss: 0.2376 - mean_squared_error: 0.2376\n",
            "Epoch 29/30\n",
            "1000/1000 [==============================] - 2s 2ms/step - loss: 0.4577 - mean_squared_error: 0.4577\n",
            "Epoch 30/30\n",
            "1000/1000 [==============================] - 2s 2ms/step - loss: 0.0024 - mean_squared_error: 0.0024\n"
          ]
        },
        {
          "output_type": "execute_result",
          "data": {
            "text/plain": [
              "<keras.callbacks.History at 0x7fedb2b93e50>"
            ]
          },
          "metadata": {},
          "execution_count": 38
        }
      ]
    }
  ]
}